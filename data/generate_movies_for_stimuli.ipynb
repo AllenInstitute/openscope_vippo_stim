{
 "cells": [
  {
   "cell_type": "code",
   "execution_count": 1,
   "metadata": {},
   "outputs": [],
   "source": [
    "def save_bar_frames(direction_name):\n",
    "    pygame.init()\n",
    "    screen_height = 800\n",
    "    screen_width = 600\n",
    "    screen = pygame.display.set_mode((screen_height, screen_width))\n",
    "    clock = pygame.time.Clock()\n",
    "    white = (255, 255, 255)\n",
    "    black = (0, 0, 0)\n",
    "    speed_mode = ['low','intermediate','high'] \n",
    "    #Frames per second\n",
    "    fps=60\n",
    "    if direction_name=='lr' or direction_name=='rl':\n",
    "        bar_width = screen_width*12/180\n",
    "        bar_height = screen_height\n",
    "    elif direction_name=='ud' or direction_name=='du':\n",
    "        bar_width = screen_width\n",
    "        bar_height = screen_height*12/180\n",
    "    if direction_name=='rl':\n",
    "        print(\"Constructing right to left moving bar movie\")\n",
    "        bar_x = 2.2*screen_width\n",
    "        bar_y = 0\n",
    "        direction = -1\n",
    "        if speed_mode[]\n",
    "        speed = screen.get_width()*0.976/(60)\n",
    "    elif direction_name=='lr':\n",
    "        print(\"Constructing left to right moving bar movie\")\n",
    "        bar_x = 0\n",
    "        bar_y = 0\n",
    "        direction = 1\n",
    "        speed = screen.get_width()*0.976/(60)\n",
    "    elif direction_name=='du':\n",
    "        print(\"Constructing up to down moving bar movie\")\n",
    "        bar_x = 0\n",
    "        bar_y = screen_height/2\n",
    "        direction = -1\n",
    "        speed = screen.get_height()*0.886/(60)\n",
    "    elif direction_name=='ud':\n",
    "        print(\"Constructing down to up moving bar movie\")\n",
    "        bar_x = 0\n",
    "        bar_y = 0\n",
    "        direction = 1\n",
    "        speed = screen.get_height()*0.886/(60)\n",
    "    frames = []\n",
    "    while len(frames) <=20:\n",
    "        for event in pygame.event.get():\n",
    "            if event.type == pygame.QUIT:\n",
    "                pygame.quit()\n",
    "                return\n",
    "        screen.fill(black)\n",
    "        pygame.draw.rect(screen, white, (bar_x, bar_y, bar_width, bar_height))  \n",
    "        if direction_name=='lr' or direction_name=='rl':\n",
    "            if bar_x < 0 or bar_x + bar_width > screen.get_width():\n",
    "                print(\"Updating bar position\")\n",
    "                if direction>0:\n",
    "                    bar_x=0\n",
    "                if direction<0:\n",
    "                    bar_x=screen.get_width()\n",
    "            bar_x += speed * direction\n",
    "        else:\n",
    "            bar_y += speed * direction\n",
    "            if bar_y < 0 or bar_y + bar_height > screen.get_height():\n",
    "                print(\"Updating bar position\")\n",
    "                if direction>0:\n",
    "                    bar_y=0\n",
    "                if direction<0:\n",
    "                    bar_y=screen_height/2\n",
    "        pygame.display.flip()\n",
    "        clock.tick(fps)\n",
    "        frame = pygame.surfarray.array2d(screen)\n",
    "        frames.append(frame)\n",
    "    pygame.quit()\n",
    "    \n",
    "    frames = np.array(frames).astype(np.uint8)\n",
    "    print(frames.ndim)\n",
    "    np.save('bar_frame_%s.npy'%direction_name, frames)"
   ]
  },
  {
   "cell_type": "code",
   "execution_count": 10,
   "metadata": {},
   "outputs": [
    {
     "name": "stdout",
     "output_type": "stream",
     "text": [
      "Constructing down to up moving bar movie\n",
      "3\n"
     ]
    }
   ],
   "source": [
    "save_bar_frames('ud')"
   ]
  },
  {
   "cell_type": "code",
   "execution_count": 4,
   "metadata": {},
   "outputs": [],
   "source": [
    "def save_rot_frames(rotation_direction):\n",
    "    # define constants  \n",
    "    screen_height = 1920\n",
    "    screen_width = 1080\n",
    "    \n",
    "    #find the FPS of the movie\n",
    "    FPS = 20\n",
    "    \n",
    "    # define colors  \n",
    "    BLACK = (0 , 0 , 0)  \n",
    "    WHITE = (255 , 255 , 255)\n",
    "    GREEN = (127,255,0)\n",
    "    # initialize pygame and create screen  \n",
    "    pygame.init()  \n",
    "    screen = pygame.display.set_mode((screen_height,screen_width))\n",
    "    \n",
    "    # for setting FPS  \n",
    "    clock = pygame.time.Clock()  \n",
    "    rot = 0  \n",
    "    if rotation_direction=='cw':\n",
    "        rot_speed = -6\n",
    "    elif rotation_direction=='acw':\n",
    "        rot_speed = 6    \n",
    "    \n",
    "    # define a surface (RECTANGLE)  \n",
    "    image_orig = pygame.Surface((screen_width , 30))  \n",
    "    # for making transparent background while rotating an image  \n",
    "    image_orig.set_colorkey(BLACK)  \n",
    "    # fill the rectangle / surface with green color  \n",
    "    image_orig.fill(GREEN)  \n",
    "    # creating a copy of orignal image for smooth rotation  \n",
    "    image = image_orig.copy()  \n",
    "    image.set_colorkey(BLACK)  \n",
    "    # define rect for placing the rectangle at the desired position  \n",
    "    rect = image.get_rect()  \n",
    "    rect.center = (0.9*screen_width, 0.25*screen_height)\n",
    "    \n",
    "    # keep rotating the rectangle until running is set to False  \n",
    "    running = True  \n",
    "    frames = []\n",
    "    \n",
    "    while len(frames)<=59:  \n",
    "        # set FPS  \n",
    "        clock.tick(FPS)  \n",
    "        # clear the screen every time before drawing new objects  \n",
    "        screen.fill(BLACK)  \n",
    "        # check for the exit  \n",
    "        for event in pygame.event.get():  \n",
    "            if event.type == pygame.QUIT:  \n",
    "                running = False  \n",
    "        # making a copy of the old center of the rectangle  \n",
    "        old_center = rect.center  \n",
    "        # defining angle of the rotation  \n",
    "        rot = (rot + rot_speed) % 360  \n",
    "        # rotating the orignal image  \n",
    "        new_image = pygame.transform.rotate(image_orig , rot)  \n",
    "        rect = new_image.get_rect()  \n",
    "        # set the rotated rectangle to the old center  \n",
    "        rect.center = old_center  \n",
    "        # drawing the rotated rectangle to the screen  \n",
    "        screen.blit(new_image , rect)  \n",
    "        #Save frames\n",
    "        frame = pygame.surfarray.array2d(screen)\n",
    "        frames.append(frame)\n",
    "        # flipping the display after drawing everything  \n",
    "        pygame.display.flip()  \n",
    "    pygame.quit() \n",
    "    frames = np.array(frames)\n",
    "    print(\"Shape of the frames\",int(np.shape(frames)[0]))\n",
    "    np.save('rotating_bar_%s.npy'%rotation_direction, frames)"
   ]
  },
  {
   "cell_type": "code",
   "execution_count": null,
   "metadata": {},
   "outputs": [],
   "source": [
    "save_rot_frames('cw')"
   ]
  },
  {
   "cell_type": "code",
   "execution_count": null,
   "metadata": {},
   "outputs": [],
   "source": [
    "#Make the bar center of the screen\n",
    "#And then make the width of the bar consistent\n",
    "#Check why the moving bar won't work out.\n",
    "#Generate a green/black chequered bar on a screen."
   ]
  },
  {
   "cell_type": "code",
   "execution_count": 1,
   "metadata": {},
   "outputs": [
    {
     "name": "stdout",
     "output_type": "stream",
     "text": [
      "pygame 2.0.3 (SDL 2.0.16, Python 2.7.18)\n",
      "Hello from the pygame community. https://www.pygame.org/contribute.html\n",
      "Failed to fix numpy CTRL+C handler.\n"
     ]
    }
   ],
   "source": [
    "from camstim import MovieStim, SweepStim, Window\n",
    "import logging"
   ]
  },
  {
   "cell_type": "code",
   "execution_count": 2,
   "metadata": {},
   "outputs": [
    {
     "name": "stdout",
     "output_type": "stream",
     "text": [
      "window\n",
      "Movie file already exists locally @ C:\\Users\\UCLA ASA/camstim/movies\\bar_frame_ud.npy\n"
     ]
    },
    {
     "ename": "ValueError",
     "evalue": "Movie must be dtype numpy.uint8",
     "output_type": "error",
     "traceback": [
      "\u001b[1;31m---------------------------------------------------------------------------\u001b[0m",
      "\u001b[1;31mValueError\u001b[0m                                Traceback (most recent call last)",
      "\u001b[1;32m<ipython-input-2-f6137ddbf75a>\u001b[0m in \u001b[0;36m<module>\u001b[1;34m()\u001b[0m\n\u001b[0;32m     10\u001b[0m                \u001b[0mstart_time\u001b[0m\u001b[1;33m=\u001b[0m\u001b[1;36m0.0\u001b[0m\u001b[1;33m,\u001b[0m\u001b[1;33m\u001b[0m\u001b[0m\n\u001b[0;32m     11\u001b[0m                \u001b[0mstop_time\u001b[0m\u001b[1;33m=\u001b[0m\u001b[1;36m20\u001b[0m\u001b[1;33m,\u001b[0m\u001b[1;33m\u001b[0m\u001b[0m\n\u001b[1;32m---> 12\u001b[1;33m                flip_v=True,)\n\u001b[0m\u001b[0;32m     13\u001b[0m config = {\n\u001b[0;32m     14\u001b[0m     \u001b[1;34m'sync_sqr'\u001b[0m\u001b[1;33m:\u001b[0m \u001b[0mTrue\u001b[0m\u001b[1;33m,\u001b[0m\u001b[1;33m\u001b[0m\u001b[0m\n",
      "\u001b[1;32mc:\\users\\ucla asa\\.conda\\envs\\vevs_allen_brain\\lib\\site-packages\\camstim\\sweepstim.pyc\u001b[0m in \u001b[0;36m__init__\u001b[1;34m(self, movie_path, window, frame_length, size, pos, start_time, stop_time, blank_length, blank_sweeps, runs, shuffle, fps, flip_v, flip_h, interpolate)\u001b[0m\n\u001b[0;32m    474\u001b[0m         \u001b[0mself\u001b[0m\u001b[1;33m.\u001b[0m\u001b[0mframe_length\u001b[0m \u001b[1;33m=\u001b[0m \u001b[0mframe_length\u001b[0m\u001b[1;33m\u001b[0m\u001b[0m\n\u001b[0;32m    475\u001b[0m \u001b[1;33m\u001b[0m\u001b[0m\n\u001b[1;32m--> 476\u001b[1;33m         \u001b[0mmovie_data\u001b[0m \u001b[1;33m=\u001b[0m \u001b[0mself\u001b[0m\u001b[1;33m.\u001b[0m\u001b[0mload_movie\u001b[0m\u001b[1;33m(\u001b[0m\u001b[0mmovie_path\u001b[0m\u001b[1;33m)\u001b[0m\u001b[1;33m\u001b[0m\u001b[0m\n\u001b[0m\u001b[0;32m    477\u001b[0m \u001b[1;33m\u001b[0m\u001b[0m\n\u001b[0;32m    478\u001b[0m         psychopy_stimulus = ImageStimNumpyuByte(window,\n",
      "\u001b[1;32mc:\\users\\ucla asa\\.conda\\envs\\vevs_allen_brain\\lib\\site-packages\\camstim\\sweepstim.pyc\u001b[0m in \u001b[0;36mload_movie\u001b[1;34m(self, path)\u001b[0m\n\u001b[0;32m    520\u001b[0m         \"\"\"\n\u001b[0;32m    521\u001b[0m         \u001b[1;32mif\u001b[0m \u001b[0mpath\u001b[0m\u001b[1;33m[\u001b[0m\u001b[1;33m-\u001b[0m\u001b[1;36m3\u001b[0m\u001b[1;33m:\u001b[0m\u001b[1;33m]\u001b[0m \u001b[1;33m==\u001b[0m \u001b[1;34m\"npy\"\u001b[0m\u001b[1;33m:\u001b[0m\u001b[1;33m\u001b[0m\u001b[0m\n\u001b[1;32m--> 522\u001b[1;33m             \u001b[1;32mreturn\u001b[0m \u001b[0mself\u001b[0m\u001b[1;33m.\u001b[0m\u001b[0mload_numpy_movie\u001b[0m\u001b[1;33m(\u001b[0m\u001b[0mpath\u001b[0m\u001b[1;33m)\u001b[0m\u001b[1;33m\u001b[0m\u001b[0m\n\u001b[0m\u001b[0;32m    523\u001b[0m         \u001b[1;32melse\u001b[0m\u001b[1;33m:\u001b[0m\u001b[1;33m\u001b[0m\u001b[0m\n\u001b[0;32m    524\u001b[0m             \u001b[1;32mraise\u001b[0m \u001b[0mIOError\u001b[0m\u001b[1;33m(\u001b[0m\u001b[1;34m\"Incorrect movie file type.\"\u001b[0m\u001b[1;33m)\u001b[0m\u001b[1;33m\u001b[0m\u001b[0m\n",
      "\u001b[1;32mc:\\users\\ucla asa\\.conda\\envs\\vevs_allen_brain\\lib\\site-packages\\camstim\\sweepstim.pyc\u001b[0m in \u001b[0;36mload_numpy_movie\u001b[1;34m(self, path)\u001b[0m\n\u001b[0;32m    536\u001b[0m             \u001b[1;32mraise\u001b[0m \u001b[0mValueError\u001b[0m\u001b[1;33m(\u001b[0m\u001b[1;34m\"Movie must have 3 dimenstions: (t, y, x))\"\u001b[0m\u001b[1;33m)\u001b[0m\u001b[1;33m\u001b[0m\u001b[0m\n\u001b[0;32m    537\u001b[0m         \u001b[1;32mif\u001b[0m \u001b[1;32mnot\u001b[0m \u001b[0mmovie_data\u001b[0m\u001b[1;33m.\u001b[0m\u001b[0mdtype\u001b[0m \u001b[1;32min\u001b[0m \u001b[1;33m[\u001b[0m\u001b[0mnp\u001b[0m\u001b[1;33m.\u001b[0m\u001b[0muint8\u001b[0m\u001b[1;33m,\u001b[0m \u001b[0mnp\u001b[0m\u001b[1;33m.\u001b[0m\u001b[0mubyte\u001b[0m\u001b[1;33m]\u001b[0m\u001b[1;33m:\u001b[0m\u001b[1;33m\u001b[0m\u001b[0m\n\u001b[1;32m--> 538\u001b[1;33m             \u001b[1;32mraise\u001b[0m \u001b[0mValueError\u001b[0m\u001b[1;33m(\u001b[0m\u001b[1;34m\"Movie must be dtype numpy.uint8\"\u001b[0m\u001b[1;33m)\u001b[0m\u001b[1;33m\u001b[0m\u001b[0m\n\u001b[0m\u001b[0;32m    539\u001b[0m \u001b[1;33m\u001b[0m\u001b[0m\n\u001b[0;32m    540\u001b[0m         \u001b[1;32mreturn\u001b[0m \u001b[0mmovie_data\u001b[0m\u001b[1;33m\u001b[0m\u001b[0m\n",
      "\u001b[1;31mValueError\u001b[0m: Movie must be dtype numpy.uint8"
     ]
    }
   ],
   "source": [
    "window = Window(fullscr=False,\n",
    "                monitor='testMonitor',\n",
    "                screen=2,)\n",
    "\n",
    "print('window')\n",
    "g0 = MovieStim(movie_path='C:/Users/UCLA ASA/VEVS_Allen_Brain/bar_frame_ud.npy',\n",
    "               window=window,\n",
    "               frame_length=21,\n",
    "               size=(800, 600),\n",
    "               start_time=0.0,\n",
    "               stop_time=20,\n",
    "               flip_v=True,)\n",
    "config = {\n",
    "    'sync_sqr': True,\n",
    "}\n",
    "ss = SweepStim(window,\n",
    "               stimuli=[],\n",
    "               pre_blank_sec=0,\n",
    "               post_blank_sec=0,\n",
    "               params=config,\n",
    "               )\n",
    "\n",
    "ss.add_stimulus(g0)\n",
    "\n",
    "ss.run()"
   ]
  },
  {
   "cell_type": "code",
   "execution_count": null,
   "metadata": {},
   "outputs": [],
   "source": []
  }
 ],
 "metadata": {
  "kernelspec": {
   "display_name": "Python 2",
   "language": "python",
   "name": "python2"
  },
  "language_info": {
   "codemirror_mode": {
    "name": "ipython",
    "version": 2
   },
   "file_extension": ".py",
   "mimetype": "text/x-python",
   "name": "python",
   "nbconvert_exporter": "python",
   "pygments_lexer": "ipython2",
   "version": "2.7.18"
  }
 },
 "nbformat": 4,
 "nbformat_minor": 2
}
